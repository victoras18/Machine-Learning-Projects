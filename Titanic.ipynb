{
 "cells": [
  {
   "cell_type": "markdown",
   "metadata": {},
   "source": [
    "# Predicting Titanic survival"
   ]
  },
  {
   "cell_type": "markdown",
   "metadata": {},
   "source": [
    "- Survival - Survival (0 = No; 1 = Yes). Not included in test.csv file.\n",
    "- Pclass - Passenger Class (1 = 1st; 2 = 2nd; 3 = 3rd)\n",
    "- Name - Name\n",
    "- Sex - Sex\n",
    "- Age - Age\n",
    "- Sibsp - Number of Siblings/Spouses Aboard\n",
    "- Parch - Number of Parents/Children Aboard\n",
    "- Ticket - Ticket Number\n",
    "- Fare - Passenger Fare\n",
    "- Cabin - Cabin\n",
    "- Embarked - Port of Embarkation (C = Cherbourg; Q = Queenstown; S = Southampton)"
   ]
  },
  {
   "cell_type": "code",
   "execution_count": 39,
   "metadata": {},
   "outputs": [],
   "source": [
    "import numpy as np\n",
    "import pandas as pd\n",
    "import matplotlib.pyplot as plt\n",
    "import seaborn as sns\n",
    "import os"
   ]
  },
  {
   "cell_type": "markdown",
   "metadata": {},
   "source": [
    "### Import data"
   ]
  },
  {
   "cell_type": "code",
   "execution_count": 760,
   "metadata": {},
   "outputs": [
    {
     "data": {
      "text/html": [
       "<div>\n",
       "<style scoped>\n",
       "    .dataframe tbody tr th:only-of-type {\n",
       "        vertical-align: middle;\n",
       "    }\n",
       "\n",
       "    .dataframe tbody tr th {\n",
       "        vertical-align: top;\n",
       "    }\n",
       "\n",
       "    .dataframe thead th {\n",
       "        text-align: right;\n",
       "    }\n",
       "</style>\n",
       "<table border=\"1\" class=\"dataframe\">\n",
       "  <thead>\n",
       "    <tr style=\"text-align: right;\">\n",
       "      <th></th>\n",
       "      <th>PassengerId</th>\n",
       "      <th>Survived</th>\n",
       "      <th>Pclass</th>\n",
       "      <th>Name</th>\n",
       "      <th>Sex</th>\n",
       "      <th>Age</th>\n",
       "      <th>SibSp</th>\n",
       "      <th>Parch</th>\n",
       "      <th>Ticket</th>\n",
       "      <th>Fare</th>\n",
       "      <th>Cabin</th>\n",
       "      <th>Embarked</th>\n",
       "    </tr>\n",
       "  </thead>\n",
       "  <tbody>\n",
       "    <tr>\n",
       "      <th>0</th>\n",
       "      <td>1</td>\n",
       "      <td>0</td>\n",
       "      <td>3</td>\n",
       "      <td>Braund, Mr. Owen Harris</td>\n",
       "      <td>male</td>\n",
       "      <td>22.0</td>\n",
       "      <td>1</td>\n",
       "      <td>0</td>\n",
       "      <td>A/5 21171</td>\n",
       "      <td>7.2500</td>\n",
       "      <td>NaN</td>\n",
       "      <td>S</td>\n",
       "    </tr>\n",
       "    <tr>\n",
       "      <th>1</th>\n",
       "      <td>2</td>\n",
       "      <td>1</td>\n",
       "      <td>1</td>\n",
       "      <td>Cumings, Mrs. John Bradley (Florence Briggs Th...</td>\n",
       "      <td>female</td>\n",
       "      <td>38.0</td>\n",
       "      <td>1</td>\n",
       "      <td>0</td>\n",
       "      <td>PC 17599</td>\n",
       "      <td>71.2833</td>\n",
       "      <td>C85</td>\n",
       "      <td>C</td>\n",
       "    </tr>\n",
       "    <tr>\n",
       "      <th>2</th>\n",
       "      <td>3</td>\n",
       "      <td>1</td>\n",
       "      <td>3</td>\n",
       "      <td>Heikkinen, Miss. Laina</td>\n",
       "      <td>female</td>\n",
       "      <td>26.0</td>\n",
       "      <td>0</td>\n",
       "      <td>0</td>\n",
       "      <td>STON/O2. 3101282</td>\n",
       "      <td>7.9250</td>\n",
       "      <td>NaN</td>\n",
       "      <td>S</td>\n",
       "    </tr>\n",
       "    <tr>\n",
       "      <th>3</th>\n",
       "      <td>4</td>\n",
       "      <td>1</td>\n",
       "      <td>1</td>\n",
       "      <td>Futrelle, Mrs. Jacques Heath (Lily May Peel)</td>\n",
       "      <td>female</td>\n",
       "      <td>35.0</td>\n",
       "      <td>1</td>\n",
       "      <td>0</td>\n",
       "      <td>113803</td>\n",
       "      <td>53.1000</td>\n",
       "      <td>C123</td>\n",
       "      <td>S</td>\n",
       "    </tr>\n",
       "    <tr>\n",
       "      <th>4</th>\n",
       "      <td>5</td>\n",
       "      <td>0</td>\n",
       "      <td>3</td>\n",
       "      <td>Allen, Mr. William Henry</td>\n",
       "      <td>male</td>\n",
       "      <td>35.0</td>\n",
       "      <td>0</td>\n",
       "      <td>0</td>\n",
       "      <td>373450</td>\n",
       "      <td>8.0500</td>\n",
       "      <td>NaN</td>\n",
       "      <td>S</td>\n",
       "    </tr>\n",
       "  </tbody>\n",
       "</table>\n",
       "</div>"
      ],
      "text/plain": [
       "   PassengerId  Survived  Pclass  \\\n",
       "0            1         0       3   \n",
       "1            2         1       1   \n",
       "2            3         1       3   \n",
       "3            4         1       1   \n",
       "4            5         0       3   \n",
       "\n",
       "                                                Name     Sex   Age  SibSp  \\\n",
       "0                            Braund, Mr. Owen Harris    male  22.0      1   \n",
       "1  Cumings, Mrs. John Bradley (Florence Briggs Th...  female  38.0      1   \n",
       "2                             Heikkinen, Miss. Laina  female  26.0      0   \n",
       "3       Futrelle, Mrs. Jacques Heath (Lily May Peel)  female  35.0      1   \n",
       "4                           Allen, Mr. William Henry    male  35.0      0   \n",
       "\n",
       "   Parch            Ticket     Fare Cabin Embarked  \n",
       "0      0         A/5 21171   7.2500   NaN        S  \n",
       "1      0          PC 17599  71.2833   C85        C  \n",
       "2      0  STON/O2. 3101282   7.9250   NaN        S  \n",
       "3      0            113803  53.1000  C123        S  \n",
       "4      0            373450   8.0500   NaN        S  "
      ]
     },
     "execution_count": 760,
     "metadata": {},
     "output_type": "execute_result"
    }
   ],
   "source": [
    "train_data=pd.read_csv(\"Data/titanic/train.csv\")\n",
    "test_data=pd.read_csv(\"Data/titanic/test.csv\")\n",
    "datasets=[train_data,test_data]\n",
    "train_data.head()"
   ]
  },
  {
   "cell_type": "markdown",
   "metadata": {},
   "source": [
    "### Explore data"
   ]
  },
  {
   "cell_type": "code",
   "execution_count": 606,
   "metadata": {},
   "outputs": [
    {
     "name": "stdout",
     "output_type": "stream",
     "text": [
      "<class 'pandas.core.frame.DataFrame'>\n",
      "RangeIndex: 891 entries, 0 to 890\n",
      "Data columns (total 12 columns):\n",
      " #   Column       Non-Null Count  Dtype  \n",
      "---  ------       --------------  -----  \n",
      " 0   PassengerId  891 non-null    int64  \n",
      " 1   Survived     891 non-null    int64  \n",
      " 2   Pclass       891 non-null    int64  \n",
      " 3   Name         891 non-null    object \n",
      " 4   Sex          891 non-null    object \n",
      " 5   Age          714 non-null    float64\n",
      " 6   SibSp        891 non-null    int64  \n",
      " 7   Parch        891 non-null    int64  \n",
      " 8   Ticket       891 non-null    object \n",
      " 9   Fare         891 non-null    float64\n",
      " 10  Cabin        204 non-null    object \n",
      " 11  Embarked     889 non-null    object \n",
      "dtypes: float64(2), int64(5), object(5)\n",
      "memory usage: 83.7+ KB\n"
     ]
    }
   ],
   "source": [
    "train_data.info()\n",
    "#Variables with missing values: Age, Cabin, Embarked"
   ]
  },
  {
   "cell_type": "code",
   "execution_count": 607,
   "metadata": {},
   "outputs": [
    {
     "data": {
      "text/plain": [
       "PassengerId      0\n",
       "Survived         0\n",
       "Pclass           0\n",
       "Name             0\n",
       "Sex              0\n",
       "Age            177\n",
       "SibSp            0\n",
       "Parch            0\n",
       "Ticket           0\n",
       "Fare             0\n",
       "Cabin          687\n",
       "Embarked         2\n",
       "dtype: int64"
      ]
     },
     "execution_count": 607,
     "metadata": {},
     "output_type": "execute_result"
    }
   ],
   "source": [
    "#Check for missing values\n",
    "train_data.isnull().sum()"
   ]
  },
  {
   "cell_type": "code",
   "execution_count": 608,
   "metadata": {},
   "outputs": [
    {
     "data": {
      "text/html": [
       "<div>\n",
       "<style scoped>\n",
       "    .dataframe tbody tr th:only-of-type {\n",
       "        vertical-align: middle;\n",
       "    }\n",
       "\n",
       "    .dataframe tbody tr th {\n",
       "        vertical-align: top;\n",
       "    }\n",
       "\n",
       "    .dataframe thead th {\n",
       "        text-align: right;\n",
       "    }\n",
       "</style>\n",
       "<table border=\"1\" class=\"dataframe\">\n",
       "  <thead>\n",
       "    <tr style=\"text-align: right;\">\n",
       "      <th></th>\n",
       "      <th>PassengerId</th>\n",
       "      <th>Survived</th>\n",
       "      <th>Pclass</th>\n",
       "      <th>Age</th>\n",
       "      <th>SibSp</th>\n",
       "      <th>Parch</th>\n",
       "      <th>Fare</th>\n",
       "    </tr>\n",
       "  </thead>\n",
       "  <tbody>\n",
       "    <tr>\n",
       "      <th>count</th>\n",
       "      <td>891.000000</td>\n",
       "      <td>891.000000</td>\n",
       "      <td>891.000000</td>\n",
       "      <td>714.000000</td>\n",
       "      <td>891.000000</td>\n",
       "      <td>891.000000</td>\n",
       "      <td>891.000000</td>\n",
       "    </tr>\n",
       "    <tr>\n",
       "      <th>mean</th>\n",
       "      <td>446.000000</td>\n",
       "      <td>0.383838</td>\n",
       "      <td>2.308642</td>\n",
       "      <td>29.699118</td>\n",
       "      <td>0.523008</td>\n",
       "      <td>0.381594</td>\n",
       "      <td>32.204208</td>\n",
       "    </tr>\n",
       "    <tr>\n",
       "      <th>std</th>\n",
       "      <td>257.353842</td>\n",
       "      <td>0.486592</td>\n",
       "      <td>0.836071</td>\n",
       "      <td>14.526497</td>\n",
       "      <td>1.102743</td>\n",
       "      <td>0.806057</td>\n",
       "      <td>49.693429</td>\n",
       "    </tr>\n",
       "    <tr>\n",
       "      <th>min</th>\n",
       "      <td>1.000000</td>\n",
       "      <td>0.000000</td>\n",
       "      <td>1.000000</td>\n",
       "      <td>0.420000</td>\n",
       "      <td>0.000000</td>\n",
       "      <td>0.000000</td>\n",
       "      <td>0.000000</td>\n",
       "    </tr>\n",
       "    <tr>\n",
       "      <th>25%</th>\n",
       "      <td>223.500000</td>\n",
       "      <td>0.000000</td>\n",
       "      <td>2.000000</td>\n",
       "      <td>20.125000</td>\n",
       "      <td>0.000000</td>\n",
       "      <td>0.000000</td>\n",
       "      <td>7.910400</td>\n",
       "    </tr>\n",
       "    <tr>\n",
       "      <th>50%</th>\n",
       "      <td>446.000000</td>\n",
       "      <td>0.000000</td>\n",
       "      <td>3.000000</td>\n",
       "      <td>28.000000</td>\n",
       "      <td>0.000000</td>\n",
       "      <td>0.000000</td>\n",
       "      <td>14.454200</td>\n",
       "    </tr>\n",
       "    <tr>\n",
       "      <th>75%</th>\n",
       "      <td>668.500000</td>\n",
       "      <td>1.000000</td>\n",
       "      <td>3.000000</td>\n",
       "      <td>38.000000</td>\n",
       "      <td>1.000000</td>\n",
       "      <td>0.000000</td>\n",
       "      <td>31.000000</td>\n",
       "    </tr>\n",
       "    <tr>\n",
       "      <th>max</th>\n",
       "      <td>891.000000</td>\n",
       "      <td>1.000000</td>\n",
       "      <td>3.000000</td>\n",
       "      <td>80.000000</td>\n",
       "      <td>8.000000</td>\n",
       "      <td>6.000000</td>\n",
       "      <td>512.329200</td>\n",
       "    </tr>\n",
       "  </tbody>\n",
       "</table>\n",
       "</div>"
      ],
      "text/plain": [
       "       PassengerId    Survived      Pclass         Age       SibSp  \\\n",
       "count   891.000000  891.000000  891.000000  714.000000  891.000000   \n",
       "mean    446.000000    0.383838    2.308642   29.699118    0.523008   \n",
       "std     257.353842    0.486592    0.836071   14.526497    1.102743   \n",
       "min       1.000000    0.000000    1.000000    0.420000    0.000000   \n",
       "25%     223.500000    0.000000    2.000000   20.125000    0.000000   \n",
       "50%     446.000000    0.000000    3.000000   28.000000    0.000000   \n",
       "75%     668.500000    1.000000    3.000000   38.000000    1.000000   \n",
       "max     891.000000    1.000000    3.000000   80.000000    8.000000   \n",
       "\n",
       "            Parch        Fare  \n",
       "count  891.000000  891.000000  \n",
       "mean     0.381594   32.204208  \n",
       "std      0.806057   49.693429  \n",
       "min      0.000000    0.000000  \n",
       "25%      0.000000    7.910400  \n",
       "50%      0.000000   14.454200  \n",
       "75%      0.000000   31.000000  \n",
       "max      6.000000  512.329200  "
      ]
     },
     "execution_count": 608,
     "metadata": {},
     "output_type": "execute_result"
    }
   ],
   "source": [
    "train_data.describe()\n",
    "#38% survival rate"
   ]
  },
  {
   "cell_type": "code",
   "execution_count": 609,
   "metadata": {},
   "outputs": [
    {
     "data": {
      "image/png": "[encoded data removed]",
      "text/plain": [
       "<Figure size 864x360 with 2 Axes>"
      ]
     },
     "metadata": {
      "needs_background": "light"
     },
     "output_type": "display_data"
    }
   ],
   "source": [
    "f,ax=plt.subplots(1,2, figsize=(12,5))\n",
    "\n",
    "sns.countplot('Survived',data=train_data,ax=ax[0]);\n",
    "train_data['Survived'].value_counts().plot.pie(autopct='%1.1f%%', ax=ax[1])\n",
    "\n",
    "ax[0].title.set_text('Number of passagers')\n",
    "ax[1].axis('off')\n",
    "ax[1].title.set_text('Survival rate')"
   ]
  },
  {
   "cell_type": "markdown",
   "metadata": {},
   "source": [
    "### Feature Correlation"
   ]
  },
  {
   "cell_type": "code",
   "execution_count": 620,
   "metadata": {},
   "outputs": [
    {
     "data": {
      "image/png": "[encoded data removed]",
      "text/plain": [
       "<Figure size 1296x360 with 3 Axes>"
      ]
     },
     "metadata": {
      "needs_background": "light"
     },
     "output_type": "display_data"
    }
   ],
   "source": [
    "#Pclass vs Survival\n",
    "f,ax=plt.subplots(1,3, figsize=(18,5))\n",
    "\n",
    "train_data['Pclass'].value_counts().sort_index().plot.bar(ax=ax[0])\n",
    "sns.countplot('Pclass',data=train_data, hue='Survived', ax=ax[1])\n",
    "train_data[['Survived','Pclass']].groupby(['Pclass']).mean().plot.pie(y='Survived',autopct='%1.1f%%',legend=False,ax=ax[2])\n",
    "\n",
    "ax[0].set_title('Number Of Passengers By Pclass')\n",
    "ax[0].set_ylabel('Count')\n",
    "ax[1].set_title('Survivals vs Deaths By Pclass')\n",
    "ax[2].axis('off')\n",
    "ax[2].title.set_text('Survival rate per class')\n",
    "plt.show()"
   ]
  },
  {
   "cell_type": "code",
   "execution_count": 621,
   "metadata": {},
   "outputs": [
    {
     "data": {
      "image/png": "[encoded data removed]",
      "text/plain": [
       "<Figure size 1296x360 with 3 Axes>"
      ]
     },
     "metadata": {
      "needs_background": "light"
     },
     "output_type": "display_data"
    }
   ],
   "source": [
    "#Sex vs Survival\n",
    "f,ax=plt.subplots(1,3, figsize=(18,5))\n",
    "train_data['Sex'].value_counts().plot.bar(ax=ax[0])\n",
    "sns.countplot('Sex',hue='Survived',data=train_data, ax=ax[1])\n",
    "train_data[['Survived','Sex']].groupby(['Sex']).mean().plot.pie(y='Survived',autopct='%1.1f%%',legend=False,ax=ax[2])\n",
    "\n",
    "ax[0].set_title('Number Of Passengers By Sex')\n",
    "ax[0].set_ylabel('Count')\n",
    "ax[1].set_title('Survivals vs Deaths By Sex')\n",
    "ax[2].axis('off')\n",
    "ax[2].title.set_text('Survival rate per Sex')\n",
    "plt.show()"
   ]
  },
  {
   "cell_type": "code",
   "execution_count": 658,
   "metadata": {},
   "outputs": [
    {
     "data": {
      "image/png": "[encoded data removed]",
      "text/plain": [
       "<Figure size 720x288 with 2 Axes>"
      ]
     },
     "metadata": {
      "needs_background": "light"
     },
     "output_type": "display_data"
    }
   ],
   "source": [
    "f,ax=plt.subplots(1,2, figsize=(10,4))\n",
    "sns.distplot(train_data[(train_data['Sex']=='female') & (train_data['Survived']==0)]['Age'],bins=30,label='Not Survived',kde=False,ax=ax[0])\n",
    "sns.distplot(train_data[(train_data['Sex']=='female') & (train_data['Survived']==1)]['Age'],bins=30,label='Survived',kde=False,ax=ax[0])\n",
    "sns.distplot(train_data[(train_data['Sex']=='male') & (train_data['Survived']==0)]['Age'],bins=30,label='Not Survived',kde=False,ax=ax[1])\n",
    "sns.distplot(train_data[(train_data['Sex']=='male') & (train_data['Survived']==1)]['Age'],bins=30,label='Survived',kde=False,ax=ax[1])\n",
    "\n",
    "ax[0].set_title('Female')\n",
    "ax[0].legend()\n",
    "ax[1].set_title('Male')\n",
    "ax[1].legend()\n",
    "plt.show()\n",
    "\n",
    "#Survivability in men decreases with an increase in age."
   ]
  },
  {
   "cell_type": "code",
   "execution_count": 666,
   "metadata": {},
   "outputs": [
    {
     "data": {
      "image/png": "[encoded data removed]",
      "text/plain": [
       "<Figure size 1440x360 with 3 Axes>"
      ]
     },
     "metadata": {
      "needs_background": "light"
     },
     "output_type": "display_data"
    }
   ],
   "source": [
    "#Passagers aged 11-40 from class 1 have a significantly higher survival chance.\n",
    "f,ax=plt.subplots(1,3, figsize=(20,5))\n",
    "sns.distplot(train_data[(train_data['Pclass']==1) & (train_data['Survived']==0)]['Age'],bins=30,label='Not Survived',kde=False,ax=ax[0])\n",
    "sns.distplot(train_data[(train_data['Pclass']==1) & (train_data['Survived']==1)]['Age'],bins=30,label='Survived',kde=False,ax=ax[0])\n",
    "sns.distplot(train_data[(train_data['Pclass']==2) & (train_data['Survived']==0)]['Age'],bins=30,label='Not Survived',kde=False,ax=ax[1])\n",
    "sns.distplot(train_data[(train_data['Pclass']==2) & (train_data['Survived']==1)]['Age'],bins=30,label='Survived',kde=False,ax=ax[1])\n",
    "sns.distplot(train_data[(train_data['Pclass']==3) & (train_data['Survived']==0)]['Age'],bins=30,label='Not Survived',kde=False,ax=ax[2])\n",
    "sns.distplot(train_data[(train_data['Pclass']==3) & (train_data['Survived']==1)]['Age'],bins=30,label='Survived',kde=False,ax=ax[2])\n",
    "\n",
    "ax[0].set_title('Class 1')\n",
    "ax[0].legend()\n",
    "ax[1].set_title('Class 2')\n",
    "ax[1].legend()\n",
    "ax[2].set_title('Class 3')\n",
    "ax[2].legend()\n",
    "plt.show()\n",
    "\n"
   ]
  },
  {
   "cell_type": "code",
   "execution_count": 686,
   "metadata": {},
   "outputs": [
    {
     "data": {
      "image/png": "[encoded data removed]",
      "text/plain": [
       "<Figure size 502.5x288 with 1 Axes>"
      ]
     },
     "metadata": {
      "needs_background": "light"
     },
     "output_type": "display_data"
    }
   ],
   "source": [
    "#Females from class 1 and 2 have a greater survival chance than females from class 3.\n",
    "#Males from class 1 have a greater survival chance than males from class 2 and 3.\n",
    "\n",
    "sns.catplot('Pclass','Survived',kind='point',hue='Sex',data=train_data, aspect=1.5, height=4)\n",
    "plt.show()"
   ]
  },
  {
   "cell_type": "code",
   "execution_count": 659,
   "metadata": {},
   "outputs": [
    {
     "data": {
      "image/png": "[encoded data removed]",
      "text/plain": [
       "<Figure size 1440x360 with 3 Axes>"
      ]
     },
     "metadata": {
      "needs_background": "light"
     },
     "output_type": "display_data"
    }
   ],
   "source": [
    "f,ax=plt.subplots(1,3, figsize=(20,5))\n",
    "sns.countplot(x='Embarked',data=train_data,ax=ax[0])\n",
    "sns.countplot(x='Embarked',hue='Survived',data=train_data,ax=ax[1])\n",
    "train_data.groupby('Embarked').mean().plot.pie(y='Survived',autopct='%1.1f%%', ax=ax[2])\n",
    "plt.show()"
   ]
  },
  {
   "cell_type": "code",
   "execution_count": 660,
   "metadata": {},
   "outputs": [
    {
     "data": {
      "text/html": [
       "<div>\n",
       "<style scoped>\n",
       "    .dataframe tbody tr th:only-of-type {\n",
       "        vertical-align: middle;\n",
       "    }\n",
       "\n",
       "    .dataframe tbody tr th {\n",
       "        vertical-align: top;\n",
       "    }\n",
       "\n",
       "    .dataframe thead tr th {\n",
       "        text-align: left;\n",
       "    }\n",
       "\n",
       "    .dataframe thead tr:last-of-type th {\n",
       "        text-align: right;\n",
       "    }\n",
       "</style>\n",
       "<table border=\"1\" class=\"dataframe\">\n",
       "  <thead>\n",
       "    <tr>\n",
       "      <th></th>\n",
       "      <th colspan=\"3\" halign=\"left\">Survived</th>\n",
       "    </tr>\n",
       "    <tr>\n",
       "      <th></th>\n",
       "      <th>count</th>\n",
       "      <th>sum</th>\n",
       "      <th>mean</th>\n",
       "    </tr>\n",
       "    <tr>\n",
       "      <th>Pclass</th>\n",
       "      <th></th>\n",
       "      <th></th>\n",
       "      <th></th>\n",
       "    </tr>\n",
       "  </thead>\n",
       "  <tbody>\n",
       "    <tr>\n",
       "      <th>1</th>\n",
       "      <td>3</td>\n",
       "      <td>2</td>\n",
       "      <td>0.666667</td>\n",
       "    </tr>\n",
       "    <tr>\n",
       "      <th>2</th>\n",
       "      <td>17</td>\n",
       "      <td>17</td>\n",
       "      <td>1.000000</td>\n",
       "    </tr>\n",
       "    <tr>\n",
       "      <th>3</th>\n",
       "      <td>44</td>\n",
       "      <td>19</td>\n",
       "      <td>0.431818</td>\n",
       "    </tr>\n",
       "  </tbody>\n",
       "</table>\n",
       "</div>"
      ],
      "text/plain": [
       "       Survived              \n",
       "          count sum      mean\n",
       "Pclass                       \n",
       "1             3   2  0.666667\n",
       "2            17  17  1.000000\n",
       "3            44  19  0.431818"
      ]
     },
     "execution_count": 660,
     "metadata": {},
     "output_type": "execute_result"
    }
   ],
   "source": [
    "#Children (age 0-10) from class 1 and 2 are close to 100% survival rate.\n",
    "train_data[['Survived','Pclass']][train_data['Age']<=10].groupby(by='Pclass').agg({'Survived':['count','sum','mean']})"
   ]
  },
  {
   "cell_type": "code",
   "execution_count": 527,
   "metadata": {},
   "outputs": [
    {
     "data": {
      "text/html": [
       "<div>\n",
       "<style scoped>\n",
       "    .dataframe tbody tr th:only-of-type {\n",
       "        vertical-align: middle;\n",
       "    }\n",
       "\n",
       "    .dataframe tbody tr th {\n",
       "        vertical-align: top;\n",
       "    }\n",
       "\n",
       "    .dataframe thead tr th {\n",
       "        text-align: left;\n",
       "    }\n",
       "\n",
       "    .dataframe thead tr:last-of-type th {\n",
       "        text-align: right;\n",
       "    }\n",
       "</style>\n",
       "<table border=\"1\" class=\"dataframe\">\n",
       "  <thead>\n",
       "    <tr>\n",
       "      <th></th>\n",
       "      <th colspan=\"3\" halign=\"left\">Survived</th>\n",
       "    </tr>\n",
       "    <tr>\n",
       "      <th></th>\n",
       "      <th>count</th>\n",
       "      <th>sum</th>\n",
       "      <th>mean</th>\n",
       "    </tr>\n",
       "    <tr>\n",
       "      <th>Sex</th>\n",
       "      <th></th>\n",
       "      <th></th>\n",
       "      <th></th>\n",
       "    </tr>\n",
       "  </thead>\n",
       "  <tbody>\n",
       "    <tr>\n",
       "      <th>female</th>\n",
       "      <td>31</td>\n",
       "      <td>19</td>\n",
       "      <td>0.612903</td>\n",
       "    </tr>\n",
       "    <tr>\n",
       "      <th>male</th>\n",
       "      <td>33</td>\n",
       "      <td>19</td>\n",
       "      <td>0.575758</td>\n",
       "    </tr>\n",
       "  </tbody>\n",
       "</table>\n",
       "</div>"
      ],
      "text/plain": [
       "       Survived              \n",
       "          count sum      mean\n",
       "Sex                          \n",
       "female       31  19  0.612903\n",
       "male         33  19  0.575758"
      ]
     },
     "execution_count": 527,
     "metadata": {},
     "output_type": "execute_result"
    }
   ],
   "source": [
    "#Sex has a no influence on the survivability among children.\n",
    "train_data[['Survived','Sex']][train_data['Age']==1].groupby(by='Sex').agg({'Survived':['count','sum','mean']})"
   ]
  },
  {
   "cell_type": "markdown",
   "metadata": {},
   "source": [
    "Conclusions:\n",
    "\n",
    "- Children (age 0-10) from class 1 and 2 are close to 100% survival rate.\n",
    "- Sex has a no influence on the survivability among children.\n",
    "- Passagers aged 11-40 from class 1 have a significantly higher survival chance.\n",
    "- Survivability in men decreases with an increase in age.\n",
    "- Females from class 1 and 2 have a greater survival chance than females from class 3.\n",
    "- Males from class 1 have a greater survival chance than males from class 2 and 3.\n",
    "\n",
    "Presumably, the order in which people embarked in the live boats is the following:\n",
    "\n",
    "<ol>\n",
    "<li>Children aged 0-10 from class 1 and 2 (almost 100%)</li>\n",
    "<li>Females from class 1 and 2 (around 95%)</li>\n",
    "<li>Females from class 3 (around 50%)</li>\n",
    "<li>Males from class 1 aged 11-40 (around 50%)</li>\n",
    "<li>Children aged 0-10 from class 3 (43%)</li>\n",
    "<li>Males from class 1 over the age of 40 (around 26%)</li>\n",
    "<li>Rest of Males from class 2 and 3 (around 10-15%)</li>\n",
    "</ol>"
   ]
  },
  {
   "cell_type": "markdown",
   "metadata": {},
   "source": [
    "### Data processing"
   ]
  },
  {
   "cell_type": "code",
   "execution_count": 761,
   "metadata": {},
   "outputs": [],
   "source": [
    "#Convert Sex to number\n",
    "\n",
    "for dataset in datasets:\n",
    "    dataset['Sex']=dataset['Sex'].map({'male':1, 'female':0})\n",
    "    dataset['Sex']=dataset['Sex'].astype(int)"
   ]
  },
  {
   "cell_type": "code",
   "execution_count": 762,
   "metadata": {},
   "outputs": [
    {
     "data": {
      "text/plain": [
       "Mr          517\n",
       "Miss        182\n",
       "Mrs         125\n",
       "Master       40\n",
       "Dr            7\n",
       "Rev           6\n",
       "Major         2\n",
       "Mlle          2\n",
       "Col           2\n",
       "Lady          1\n",
       "Capt          1\n",
       "Countess      1\n",
       "Don           1\n",
       "Jonkheer      1\n",
       "Sir           1\n",
       "Mme           1\n",
       "Ms            1\n",
       "Name: Title, dtype: int64"
      ]
     },
     "execution_count": 762,
     "metadata": {},
     "output_type": "execute_result"
    }
   ],
   "source": [
    "#Extract title from name\n",
    "for dataset in datasets:\n",
    "    dataset['Title']=dataset.Name.str.extract('([a-zA-Z]+)\\.')\n",
    "\n",
    "train_data['Title'].value_counts()"
   ]
  },
  {
   "cell_type": "code",
   "execution_count": 763,
   "metadata": {},
   "outputs": [
    {
     "data": {
      "text/plain": [
       "1    517\n",
       "2    186\n",
       "3    127\n",
       "4     40\n",
       "5     21\n",
       "Name: Title, dtype: int64"
      ]
     },
     "execution_count": 763,
     "metadata": {},
     "output_type": "execute_result"
    }
   ],
   "source": [
    "#Replace rare titles\n",
    "\n",
    "titles = {\"Mr\": 1, \"Miss\": 2, \"Mrs\": 3, \"Master\": 4, \"Other\": 5}\n",
    "\n",
    "for dataset in datasets:\n",
    "    dataset['Title']=dataset['Title'].replace('Ms','Miss')\n",
    "    dataset['Title']=dataset['Title'].replace('Mlle','Miss')\n",
    "    dataset['Title']=dataset['Title'].replace('Lady','Miss')\n",
    "\n",
    "    dataset['Title']=dataset['Title'].replace('Countess','Mrs')\n",
    "    dataset['Title']=dataset['Title'].replace('Mme','Mrs')\n",
    "\n",
    "    dataset['Title']=dataset['Title'].replace('Don','Other')\n",
    "    dataset['Title']=dataset['Title'].replace('Sir','Other')\n",
    "    dataset['Title']=dataset['Title'].replace('Dr','Other')\n",
    "    dataset['Title']=dataset['Title'].replace('Major','Other')\n",
    "    dataset['Title']=dataset['Title'].replace('Col','Other')\n",
    "    dataset['Title']=dataset['Title'].replace('Capt','Other')\n",
    "    dataset['Title']=dataset['Title'].replace('Jonkheer','Other')\n",
    "    dataset['Title']=dataset['Title'].replace('Rev','Other')\n",
    "    \n",
    "    dataset['Title']=dataset['Title'].map(titles)\n",
    "    dataset['Title']=dataset['Title'].fillna(0)\n",
    "    dataset['Title']=dataset['Title'].astype(int)\n",
    "\n",
    "train_data['Title'].value_counts()"
   ]
  },
  {
   "cell_type": "code",
   "execution_count": 697,
   "metadata": {},
   "outputs": [
    {
     "data": {
      "text/html": [
       "<div>\n",
       "<style scoped>\n",
       "    .dataframe tbody tr th:only-of-type {\n",
       "        vertical-align: middle;\n",
       "    }\n",
       "\n",
       "    .dataframe tbody tr th {\n",
       "        vertical-align: top;\n",
       "    }\n",
       "\n",
       "    .dataframe thead th {\n",
       "        text-align: right;\n",
       "    }\n",
       "</style>\n",
       "<table border=\"1\" class=\"dataframe\">\n",
       "  <thead>\n",
       "    <tr style=\"text-align: right;\">\n",
       "      <th></th>\n",
       "      <th>Age</th>\n",
       "    </tr>\n",
       "    <tr>\n",
       "      <th>Title</th>\n",
       "      <th></th>\n",
       "    </tr>\n",
       "  </thead>\n",
       "  <tbody>\n",
       "    <tr>\n",
       "      <th>1</th>\n",
       "      <td>32.368090</td>\n",
       "    </tr>\n",
       "    <tr>\n",
       "      <th>2</th>\n",
       "      <td>22.020000</td>\n",
       "    </tr>\n",
       "    <tr>\n",
       "      <th>3</th>\n",
       "      <td>35.763636</td>\n",
       "    </tr>\n",
       "    <tr>\n",
       "      <th>4</th>\n",
       "      <td>4.574167</td>\n",
       "    </tr>\n",
       "    <tr>\n",
       "      <th>5</th>\n",
       "      <td>46.050000</td>\n",
       "    </tr>\n",
       "  </tbody>\n",
       "</table>\n",
       "</div>"
      ],
      "text/plain": [
       "             Age\n",
       "Title           \n",
       "1      32.368090\n",
       "2      22.020000\n",
       "3      35.763636\n",
       "4       4.574167\n",
       "5      46.050000"
      ]
     },
     "execution_count": 697,
     "metadata": {},
     "output_type": "execute_result"
    }
   ],
   "source": [
    "#Find mean value of each title\n",
    "train_data[['Title','Age']].groupby('Title').mean()"
   ]
  },
  {
   "cell_type": "code",
   "execution_count": 764,
   "metadata": {},
   "outputs": [
    {
     "data": {
      "text/plain": [
       "0"
      ]
     },
     "execution_count": 764,
     "metadata": {},
     "output_type": "execute_result"
    }
   ],
   "source": [
    "#Replace the missing values of Age with the mean value of Age for each title\n",
    "\n",
    "for dataset in datasets:\n",
    "    dataset.loc[(train_data['Age'].isnull()) & (dataset['Title']==1),'Age']=32.4\n",
    "    dataset.loc[(train_data['Age'].isnull()) & (dataset['Title']==2),'Age']=22.0\n",
    "    dataset.loc[(train_data['Age'].isnull()) & (dataset['Title']==3),'Age']=35.8\n",
    "    dataset.loc[(train_data['Age'].isnull()) & (dataset['Title']==4),'Age']=4.6\n",
    "    dataset.loc[(train_data['Age'].isnull()) & (dataset['Title']==5),'Age']=46.0\n",
    "    \n",
    "train_data['Age'].isnull().sum()"
   ]
  },
  {
   "cell_type": "code",
   "execution_count": 765,
   "metadata": {},
   "outputs": [
    {
     "data": {
      "text/plain": [
       "4    469\n",
       "3    128\n",
       "5    111\n",
       "2     75\n",
       "1     68\n",
       "6     40\n",
       "Name: Age, dtype: int64"
      ]
     },
     "execution_count": 765,
     "metadata": {},
     "output_type": "execute_result"
    }
   ],
   "source": [
    "# Create age category variable to better interpret data\n",
    "def age_category(x):\n",
    "    if x<=10:\n",
    "        return 1\n",
    "    elif 10<x<=18:\n",
    "        return 2\n",
    "    elif 18<x<=22:\n",
    "        return 3\n",
    "    elif 22<x<=40:\n",
    "        return 4\n",
    "    elif 40<x<=55:\n",
    "        return 5\n",
    "    else:\n",
    "        return 6\n",
    "\n",
    "for dataset in datasets:\n",
    "    dataset['Age']=dataset['Age'].apply(lambda x: age_category(x))\n",
    "    \n",
    "train_data['Age'].value_counts()"
   ]
  },
  {
   "cell_type": "code",
   "execution_count": 701,
   "metadata": {},
   "outputs": [
    {
     "data": {
      "text/html": [
       "<div>\n",
       "<style scoped>\n",
       "    .dataframe tbody tr th:only-of-type {\n",
       "        vertical-align: middle;\n",
       "    }\n",
       "\n",
       "    .dataframe tbody tr th {\n",
       "        vertical-align: top;\n",
       "    }\n",
       "\n",
       "    .dataframe thead th {\n",
       "        text-align: right;\n",
       "    }\n",
       "</style>\n",
       "<table border=\"1\" class=\"dataframe\">\n",
       "  <thead>\n",
       "    <tr style=\"text-align: right;\">\n",
       "      <th></th>\n",
       "      <th>Survived</th>\n",
       "    </tr>\n",
       "    <tr>\n",
       "      <th>Age</th>\n",
       "      <th></th>\n",
       "    </tr>\n",
       "  </thead>\n",
       "  <tbody>\n",
       "    <tr>\n",
       "      <th>1</th>\n",
       "      <td>0.588235</td>\n",
       "    </tr>\n",
       "    <tr>\n",
       "      <th>2</th>\n",
       "      <td>0.426667</td>\n",
       "    </tr>\n",
       "    <tr>\n",
       "      <th>3</th>\n",
       "      <td>0.390625</td>\n",
       "    </tr>\n",
       "    <tr>\n",
       "      <th>4</th>\n",
       "      <td>0.351812</td>\n",
       "    </tr>\n",
       "    <tr>\n",
       "      <th>5</th>\n",
       "      <td>0.387387</td>\n",
       "    </tr>\n",
       "    <tr>\n",
       "      <th>6</th>\n",
       "      <td>0.300000</td>\n",
       "    </tr>\n",
       "  </tbody>\n",
       "</table>\n",
       "</div>"
      ],
      "text/plain": [
       "     Survived\n",
       "Age          \n",
       "1    0.588235\n",
       "2    0.426667\n",
       "3    0.390625\n",
       "4    0.351812\n",
       "5    0.387387\n",
       "6    0.300000"
      ]
     },
     "execution_count": 701,
     "metadata": {},
     "output_type": "execute_result"
    }
   ],
   "source": [
    "train_data[['Age','Survived']].groupby('Age').mean()"
   ]
  },
  {
   "cell_type": "code",
   "execution_count": 766,
   "metadata": {},
   "outputs": [],
   "source": [
    "#Replace missing values of Embarked with the most frequent value\n",
    "for dataset in datasets:\n",
    "    dataset.loc[dataset['Embarked'].isnull(),'Embarked']='S'\n",
    "    \n",
    "    #Create a numeric variable for Embarked\n",
    "    dataset['Embarked']=dataset['Embarked'].map({'S':1, 'Q':2, 'C':3}).astype(int)"
   ]
  },
  {
   "cell_type": "code",
   "execution_count": 767,
   "metadata": {},
   "outputs": [],
   "source": [
    "#Family size\n",
    "for dataset in datasets:\n",
    "    dataset['FamilySize'] = dataset['SibSp']+dataset['Parch']+1"
   ]
  },
  {
   "cell_type": "code",
   "execution_count": 711,
   "metadata": {},
   "outputs": [
    {
     "data": {
      "image/png": "[encoded data removed]",
      "text/plain": [
       "<Figure size 576x288 with 1 Axes>"
      ]
     },
     "metadata": {
      "needs_background": "light"
     },
     "output_type": "display_data"
    }
   ],
   "source": [
    "sns.catplot('FamilySize','Survived',data=train_data,kind='point',aspect=2,height=4)\n",
    "plt.show()"
   ]
  },
  {
   "cell_type": "code",
   "execution_count": 768,
   "metadata": {},
   "outputs": [
    {
     "data": {
      "text/html": [
       "<div>\n",
       "<style scoped>\n",
       "    .dataframe tbody tr th:only-of-type {\n",
       "        vertical-align: middle;\n",
       "    }\n",
       "\n",
       "    .dataframe tbody tr th {\n",
       "        vertical-align: top;\n",
       "    }\n",
       "\n",
       "    .dataframe thead th {\n",
       "        text-align: right;\n",
       "    }\n",
       "</style>\n",
       "<table border=\"1\" class=\"dataframe\">\n",
       "  <thead>\n",
       "    <tr style=\"text-align: right;\">\n",
       "      <th></th>\n",
       "      <th>Survived</th>\n",
       "    </tr>\n",
       "    <tr>\n",
       "      <th>IsAlone</th>\n",
       "      <th></th>\n",
       "    </tr>\n",
       "  </thead>\n",
       "  <tbody>\n",
       "    <tr>\n",
       "      <th>0</th>\n",
       "      <td>0.505650</td>\n",
       "    </tr>\n",
       "    <tr>\n",
       "      <th>1</th>\n",
       "      <td>0.303538</td>\n",
       "    </tr>\n",
       "  </tbody>\n",
       "</table>\n",
       "</div>"
      ],
      "text/plain": [
       "         Survived\n",
       "IsAlone          \n",
       "0        0.505650\n",
       "1        0.303538"
      ]
     },
     "execution_count": 768,
     "metadata": {},
     "output_type": "execute_result"
    }
   ],
   "source": [
    "#Create Is Alone\n",
    "for dataset in datasets:\n",
    "    dataset['IsAlone']=[1 if x==1 else 0 for x in dataset['FamilySize']]\n",
    "    dataset['IsAlone']=dataset['IsAlone'].astype(int)\n",
    "    \n",
    "train_data[['IsAlone','Survived']].groupby('IsAlone').mean()"
   ]
  },
  {
   "cell_type": "code",
   "execution_count": 773,
   "metadata": {},
   "outputs": [
    {
     "data": {
      "text/plain": [
       "1    537\n",
       "0    354\n",
       "Name: IsAlone, dtype: int64"
      ]
     },
     "execution_count": 773,
     "metadata": {},
     "output_type": "execute_result"
    }
   ],
   "source": [
    "train_data['IsAlone'].value_counts()"
   ]
  },
  {
   "cell_type": "code",
   "execution_count": 772,
   "metadata": {},
   "outputs": [
    {
     "data": {
      "text/plain": [
       "count      891\n",
       "unique     681\n",
       "top       1601\n",
       "freq         7\n",
       "Name: Ticket, dtype: object"
      ]
     },
     "execution_count": 772,
     "metadata": {},
     "output_type": "execute_result"
    }
   ],
   "source": [
    "train_data['Ticket'].describe()"
   ]
  },
  {
   "cell_type": "code",
   "execution_count": 782,
   "metadata": {},
   "outputs": [
    {
     "data": {
      "text/plain": [
       "count    891.000000\n",
       "mean      19.916375\n",
       "std       35.841257\n",
       "min        0.000000\n",
       "25%        7.250000\n",
       "50%        8.300000\n",
       "75%       23.666667\n",
       "max      512.329200\n",
       "Name: FarePerPerson, dtype: float64"
      ]
     },
     "execution_count": 782,
     "metadata": {},
     "output_type": "execute_result"
    }
   ],
   "source": [
    "#It seems that multiple persons have the same ticket. Most likely, each family had 1 single ticket. We calculate fare per person\n",
    "for dataset in datasets:\n",
    "    dataset['FarePerPerson'] = dataset['Fare']/dataset['FamilySize']\n",
    "    \n",
    "train_data['FarePerPerson'].describe()"
   ]
  },
  {
   "cell_type": "code",
   "execution_count": 787,
   "metadata": {},
   "outputs": [
    {
     "data": {
      "image/png": "[encoded data removed]",
      "text/plain": [
       "<Figure size 432x288 with 1 Axes>"
      ]
     },
     "metadata": {
      "needs_background": "light"
     },
     "output_type": "display_data"
    }
   ],
   "source": [
    "sns.distplot(train_data['FarePerPerson'],bins=30,label='Not Survived',kde=False)\n",
    "plt.show()"
   ]
  },
  {
   "cell_type": "code",
   "execution_count": 789,
   "metadata": {},
   "outputs": [
    {
     "data": {
      "text/html": [
       "<div>\n",
       "<style scoped>\n",
       "    .dataframe tbody tr th:only-of-type {\n",
       "        vertical-align: middle;\n",
       "    }\n",
       "\n",
       "    .dataframe tbody tr th {\n",
       "        vertical-align: top;\n",
       "    }\n",
       "\n",
       "    .dataframe thead th {\n",
       "        text-align: right;\n",
       "    }\n",
       "</style>\n",
       "<table border=\"1\" class=\"dataframe\">\n",
       "  <thead>\n",
       "    <tr style=\"text-align: right;\">\n",
       "      <th></th>\n",
       "      <th>Survived</th>\n",
       "    </tr>\n",
       "    <tr>\n",
       "      <th>FarePerPerson</th>\n",
       "      <th></th>\n",
       "    </tr>\n",
       "  </thead>\n",
       "  <tbody>\n",
       "    <tr>\n",
       "      <th>1.0</th>\n",
       "      <td>0.260090</td>\n",
       "    </tr>\n",
       "    <tr>\n",
       "      <th>2.0</th>\n",
       "      <td>0.507865</td>\n",
       "    </tr>\n",
       "  </tbody>\n",
       "</table>\n",
       "</div>"
      ],
      "text/plain": [
       "               Survived\n",
       "FarePerPerson          \n",
       "1.0            0.260090\n",
       "2.0            0.507865"
      ]
     },
     "execution_count": 789,
     "metadata": {},
     "output_type": "execute_result"
    }
   ],
   "source": [
    "#Create 2 categories: low and hight based on median value\n",
    "for dataset in datasets:\n",
    "    dataset.loc[dataset['FarePerPerson']<=8.3,'FarePerPerson']=1\n",
    "    dataset.loc[dataset['FarePerPerson']>8.3,'FarePerPerson']=2\n",
    "\n",
    "train_data[['FarePerPerson','Survived']].groupby('FarePerPerson').mean()"
   ]
  },
  {
   "cell_type": "code",
   "execution_count": 792,
   "metadata": {},
   "outputs": [
    {
     "data": {
      "text/html": [
       "<div>\n",
       "<style scoped>\n",
       "    .dataframe tbody tr th:only-of-type {\n",
       "        vertical-align: middle;\n",
       "    }\n",
       "\n",
       "    .dataframe tbody tr th {\n",
       "        vertical-align: top;\n",
       "    }\n",
       "\n",
       "    .dataframe thead th {\n",
       "        text-align: right;\n",
       "    }\n",
       "</style>\n",
       "<table border=\"1\" class=\"dataframe\">\n",
       "  <thead>\n",
       "    <tr style=\"text-align: right;\">\n",
       "      <th></th>\n",
       "      <th>Survived</th>\n",
       "    </tr>\n",
       "    <tr>\n",
       "      <th>FareBand</th>\n",
       "      <th></th>\n",
       "    </tr>\n",
       "  </thead>\n",
       "  <tbody>\n",
       "    <tr>\n",
       "      <th>(-0.001, 7.91]</th>\n",
       "      <td>0.197309</td>\n",
       "    </tr>\n",
       "    <tr>\n",
       "      <th>(7.91, 14.454]</th>\n",
       "      <td>0.303571</td>\n",
       "    </tr>\n",
       "    <tr>\n",
       "      <th>(14.454, 31.0]</th>\n",
       "      <td>0.454955</td>\n",
       "    </tr>\n",
       "    <tr>\n",
       "      <th>(31.0, 512.329]</th>\n",
       "      <td>0.581081</td>\n",
       "    </tr>\n",
       "  </tbody>\n",
       "</table>\n",
       "</div>"
      ],
      "text/plain": [
       "                 Survived\n",
       "FareBand                 \n",
       "(-0.001, 7.91]   0.197309\n",
       "(7.91, 14.454]   0.303571\n",
       "(14.454, 31.0]   0.454955\n",
       "(31.0, 512.329]  0.581081"
      ]
     },
     "execution_count": 792,
     "metadata": {},
     "output_type": "execute_result"
    }
   ],
   "source": [
    "#Create Fare intervals\n",
    "\n",
    "for dataset in datasets:\n",
    "    dataset['FareBand'] = pd.qcut(dataset['Fare'], 4)\n",
    "    \n",
    "train_data[['FareBand','Survived']].groupby('FareBand').mean()"
   ]
  },
  {
   "cell_type": "code",
   "execution_count": 793,
   "metadata": {},
   "outputs": [
    {
     "data": {
      "text/html": [
       "<div>\n",
       "<style scoped>\n",
       "    .dataframe tbody tr th:only-of-type {\n",
       "        vertical-align: middle;\n",
       "    }\n",
       "\n",
       "    .dataframe tbody tr th {\n",
       "        vertical-align: top;\n",
       "    }\n",
       "\n",
       "    .dataframe thead th {\n",
       "        text-align: right;\n",
       "    }\n",
       "</style>\n",
       "<table border=\"1\" class=\"dataframe\">\n",
       "  <thead>\n",
       "    <tr style=\"text-align: right;\">\n",
       "      <th></th>\n",
       "      <th>Survived</th>\n",
       "    </tr>\n",
       "    <tr>\n",
       "      <th>Fare</th>\n",
       "      <th></th>\n",
       "    </tr>\n",
       "  </thead>\n",
       "  <tbody>\n",
       "    <tr>\n",
       "      <th>1.0</th>\n",
       "      <td>0.197309</td>\n",
       "    </tr>\n",
       "    <tr>\n",
       "      <th>2.0</th>\n",
       "      <td>0.308756</td>\n",
       "    </tr>\n",
       "    <tr>\n",
       "      <th>3.0</th>\n",
       "      <td>0.442478</td>\n",
       "    </tr>\n",
       "    <tr>\n",
       "      <th>4.0</th>\n",
       "      <td>0.581081</td>\n",
       "    </tr>\n",
       "    <tr>\n",
       "      <th>31.0</th>\n",
       "      <td>0.666667</td>\n",
       "    </tr>\n",
       "  </tbody>\n",
       "</table>\n",
       "</div>"
      ],
      "text/plain": [
       "      Survived\n",
       "Fare          \n",
       "1.0   0.197309\n",
       "2.0   0.308756\n",
       "3.0   0.442478\n",
       "4.0   0.581081\n",
       "31.0  0.666667"
      ]
     },
     "execution_count": 793,
     "metadata": {},
     "output_type": "execute_result"
    }
   ],
   "source": [
    "#Create 4 categories\n",
    "for dataset in datasets:\n",
    "    dataset.loc[dataset['Fare']<=7.91,'Fare']=1\n",
    "    dataset.loc[(dataset['Fare']>7.91) & (dataset['Fare']<14.454),'Fare']=2\n",
    "    dataset.loc[(dataset['Fare']>14.454) & (dataset['Fare']<31.0),'Fare']=3\n",
    "    dataset.loc[dataset['Fare']>31.0,'Fare']=4\n",
    "    dataset['Fare']=dataset['Fare'].fillna(0).astype(int)\n",
    "\n",
    "train_data[['Fare','Survived']].groupby('Fare').mean()"
   ]
  },
  {
   "cell_type": "code",
   "execution_count": 795,
   "metadata": {},
   "outputs": [
    {
     "data": {
      "image/png": "[encoded data removed]",
      "text/plain": [
       "<Figure size 720x432 with 2 Axes>"
      ]
     },
     "metadata": {
      "needs_background": "light"
     },
     "output_type": "display_data"
    }
   ],
   "source": [
    "#Assess feature correlation\n",
    "plt.subplots(figsize = (10,6))\n",
    "mask = np.zeros_like(train_data.corr(), dtype=np.bool)\n",
    "mask[np.triu_indices_from(mask)] = True\n",
    "sns.heatmap(train_data.corr(),annot=True,linewidths=0.1,cmap='RdBu',mask=mask)\n",
    "plt.show()"
   ]
  },
  {
   "cell_type": "code",
   "execution_count": 797,
   "metadata": {},
   "outputs": [],
   "source": [
    "#FarePerPerson is strongly correlated with Pclass => Remove FarePerPerson\n",
    "#FamilySize is strongly correlated with SibSp, Parch => Remove FamilySize\n",
    "#Remove PassengerId from train_data. It is required in test_data for submission\n",
    "\n",
    "train_data.drop(['PassengerId','FarePerPerson','FamilySize','Name','Ticket','Cabin','FareBand'],axis=1,inplace=True)\n",
    "test_data.drop(['FarePerPerson','FamilySize','Name','Ticket','Cabin','FareBand'],axis=1,inplace=True)"
   ]
  },
  {
   "cell_type": "code",
   "execution_count": 800,
   "metadata": {},
   "outputs": [
    {
     "data": {
      "text/html": [
       "<div>\n",
       "<style scoped>\n",
       "    .dataframe tbody tr th:only-of-type {\n",
       "        vertical-align: middle;\n",
       "    }\n",
       "\n",
       "    .dataframe tbody tr th {\n",
       "        vertical-align: top;\n",
       "    }\n",
       "\n",
       "    .dataframe thead th {\n",
       "        text-align: right;\n",
       "    }\n",
       "</style>\n",
       "<table border=\"1\" class=\"dataframe\">\n",
       "  <thead>\n",
       "    <tr style=\"text-align: right;\">\n",
       "      <th></th>\n",
       "      <th>Survived</th>\n",
       "      <th>Pclass</th>\n",
       "      <th>Sex</th>\n",
       "      <th>Age</th>\n",
       "      <th>SibSp</th>\n",
       "      <th>Parch</th>\n",
       "      <th>Fare</th>\n",
       "      <th>Embarked</th>\n",
       "      <th>Title</th>\n",
       "      <th>IsAlone</th>\n",
       "    </tr>\n",
       "  </thead>\n",
       "  <tbody>\n",
       "    <tr>\n",
       "      <th>0</th>\n",
       "      <td>0</td>\n",
       "      <td>3</td>\n",
       "      <td>1</td>\n",
       "      <td>3</td>\n",
       "      <td>1</td>\n",
       "      <td>0</td>\n",
       "      <td>1</td>\n",
       "      <td>1</td>\n",
       "      <td>1</td>\n",
       "      <td>0</td>\n",
       "    </tr>\n",
       "    <tr>\n",
       "      <th>1</th>\n",
       "      <td>1</td>\n",
       "      <td>1</td>\n",
       "      <td>0</td>\n",
       "      <td>4</td>\n",
       "      <td>1</td>\n",
       "      <td>0</td>\n",
       "      <td>4</td>\n",
       "      <td>3</td>\n",
       "      <td>3</td>\n",
       "      <td>0</td>\n",
       "    </tr>\n",
       "    <tr>\n",
       "      <th>2</th>\n",
       "      <td>1</td>\n",
       "      <td>3</td>\n",
       "      <td>0</td>\n",
       "      <td>4</td>\n",
       "      <td>0</td>\n",
       "      <td>0</td>\n",
       "      <td>2</td>\n",
       "      <td>1</td>\n",
       "      <td>2</td>\n",
       "      <td>1</td>\n",
       "    </tr>\n",
       "    <tr>\n",
       "      <th>3</th>\n",
       "      <td>1</td>\n",
       "      <td>1</td>\n",
       "      <td>0</td>\n",
       "      <td>4</td>\n",
       "      <td>1</td>\n",
       "      <td>0</td>\n",
       "      <td>4</td>\n",
       "      <td>1</td>\n",
       "      <td>3</td>\n",
       "      <td>0</td>\n",
       "    </tr>\n",
       "    <tr>\n",
       "      <th>4</th>\n",
       "      <td>0</td>\n",
       "      <td>3</td>\n",
       "      <td>1</td>\n",
       "      <td>4</td>\n",
       "      <td>0</td>\n",
       "      <td>0</td>\n",
       "      <td>2</td>\n",
       "      <td>1</td>\n",
       "      <td>1</td>\n",
       "      <td>1</td>\n",
       "    </tr>\n",
       "  </tbody>\n",
       "</table>\n",
       "</div>"
      ],
      "text/plain": [
       "   Survived  Pclass  Sex  Age  SibSp  Parch  Fare  Embarked  Title  IsAlone\n",
       "0         0       3    1    3      1      0     1         1      1        0\n",
       "1         1       1    0    4      1      0     4         3      3        0\n",
       "2         1       3    0    4      0      0     2         1      2        1\n",
       "3         1       1    0    4      1      0     4         1      3        0\n",
       "4         0       3    1    4      0      0     2         1      1        1"
      ]
     },
     "execution_count": 800,
     "metadata": {},
     "output_type": "execute_result"
    }
   ],
   "source": [
    "train_data.head()"
   ]
  },
  {
   "cell_type": "markdown",
   "metadata": {},
   "source": [
    "## Data Modelling"
   ]
  },
  {
   "cell_type": "markdown",
   "metadata": {},
   "source": [
    "#### Since we are trying to predict whether a passager has survived or not, we have a problem of classification. \n",
    "#### Also, we want to identify how the independent features can influence the chance that a passager survives so we also have a regression problem.\n",
    "\n",
    "#### As such, the following algorithms will be considered:\n",
    "\n",
    "<ol>\n",
    "<li>Logistic Regression</li>\n",
    "<li>K-Nearest Neighbours</li>\n",
    "<li>Suport Vector Machines (linear and radial kernels)</li>\n",
    "<li>Naive Bayes</li>\n",
    "<li>Decision Tree</li>\n",
    "<li>Random Forest</li>\n",
    "</ol>"
   ]
  },
  {
   "cell_type": "code",
   "execution_count": 811,
   "metadata": {},
   "outputs": [],
   "source": [
    "#First create x_train, y_train, x_test\n",
    "\n",
    "x_train=train_data.iloc[:,1:]\n",
    "y_train=train_data['Survived']\n",
    "x_test=test_data.iloc[:,1:]"
   ]
  },
  {
   "cell_type": "markdown",
   "metadata": {},
   "source": [
    "#### Fit Logistic Regression"
   ]
  },
  {
   "cell_type": "code",
   "execution_count": 899,
   "metadata": {},
   "outputs": [
    {
     "name": "stdout",
     "output_type": "stream",
     "text": [
      "Train score:  0.819304152637486\n",
      "CV score:     0.8137078651685392\n"
     ]
    }
   ],
   "source": [
    "from sklearn.linear_model import LogisticRegression\n",
    "from sklearn import metrics\n",
    "from sklearn.model_selection import cross_val_score\n",
    "\n",
    "logistic_model=LogisticRegression()\n",
    "logistic_model.fit(x_train,y_train)\n",
    "\n",
    "logistic_scores = cross_val_score(logistic_model, x_train, y_train, cv=10, scoring = \"accuracy\")\n",
    "logistic={'Model':'Logistic Regression','CV mean':logistic_scores.mean(), 'Std':logistic_scores.std()}\n",
    "\n",
    "print('Train score: ',logistic_model.score(x_train,y_train))\n",
    "print('CV score:    ',logistic_scores.mean())"
   ]
  },
  {
   "cell_type": "markdown",
   "metadata": {},
   "source": [
    "#### Fit K-Nearest Neighbours"
   ]
  },
  {
   "cell_type": "code",
   "execution_count": 900,
   "metadata": {},
   "outputs": [
    {
     "name": "stdout",
     "output_type": "stream",
     "text": [
      "Train score:  0.8597081930415263\n",
      "CV score:     0.8260923845193509\n"
     ]
    }
   ],
   "source": [
    "from sklearn.neighbors import KNeighborsClassifier\n",
    "\n",
    "knn_model=KNeighborsClassifier()\n",
    "knn_model.fit(x_train,y_train)\n",
    "\n",
    "knn_scores = cross_val_score(knn_model, x_train, y_train, cv=10, scoring = \"accuracy\")\n",
    "knn={'Model':'K-NN','CV mean':knn_scores.mean(), 'Std':knn_scores.std()}\n",
    "\n",
    "print('Train score: ',knn_model.score(x_train,y_train))\n",
    "print('CV score:    ',knn_scores.mean())"
   ]
  },
  {
   "cell_type": "markdown",
   "metadata": {},
   "source": [
    "#### Fit Linear Suport Vector Machine"
   ]
  },
  {
   "cell_type": "code",
   "execution_count": 908,
   "metadata": {},
   "outputs": [
    {
     "name": "stdout",
     "output_type": "stream",
     "text": [
      "Train score:  0.8159371492704826\n",
      "CV score:     0.8091885143570536\n"
     ]
    }
   ],
   "source": [
    "from sklearn import svm\n",
    "\n",
    "svm_model=svm.SVC(kernel='linear')\n",
    "svm_model.fit(x_train,y_train)\n",
    "\n",
    "svm_scores = cross_val_score(svm_model, x_train, y_train, cv=10, scoring = \"accuracy\")\n",
    "svm={'Model':'SVM', 'CV mean':svm_scores.mean(), 'Std':svm_scores.std()}\n",
    "\n",
    "print('Train score: ',svm_model.score(x_train,y_train))\n",
    "print('CV score:    ',svm_scores.mean())"
   ]
  },
  {
   "cell_type": "markdown",
   "metadata": {},
   "source": [
    "#### Fit Suport Vector Machine with radial kernel"
   ]
  },
  {
   "cell_type": "code",
   "execution_count": 947,
   "metadata": {},
   "outputs": [
    {
     "name": "stdout",
     "output_type": "stream",
     "text": [
      "Train score:  0.8372615039281706\n",
      "CV score:     0.8271660424469414\n"
     ]
    }
   ],
   "source": [
    "from sklearn import svm\n",
    "\n",
    "rsvm_model=svm.SVC(kernel='rbf')\n",
    "rsvm_model.fit(x_train,y_train)\n",
    "\n",
    "rsvm_scores = cross_val_score(rsvm_model, x_train, y_train, cv=10, scoring = \"accuracy\")\n",
    "rsvm={'Model':'RSVM', 'CV mean':rsvm_scores.mean(), 'Std':rsvm_scores.std()}\n",
    "\n",
    "print('Train score: ',rsvm_model.score(x_train,y_train))\n",
    "print('CV score:    ',rsvm_scores.mean())"
   ]
  },
  {
   "cell_type": "markdown",
   "metadata": {},
   "source": [
    "#### Fit Naive Bayes"
   ]
  },
  {
   "cell_type": "code",
   "execution_count": 903,
   "metadata": {},
   "outputs": [
    {
     "name": "stdout",
     "output_type": "stream",
     "text": [
      "Train score:  0.8024691358024691\n",
      "CV score:     0.8013358302122346\n"
     ]
    }
   ],
   "source": [
    "from sklearn.naive_bayes import GaussianNB\n",
    "\n",
    "nb_model=GaussianNB()\n",
    "nb_model.fit(x_train,y_train)\n",
    "\n",
    "nb_scores = cross_val_score(nb_model, x_train, y_train, cv=10, scoring = \"accuracy\")\n",
    "nb={'Model':'Naive Bayes', 'CV mean':nb_scores.mean(), 'Std':nb_scores.std()}\n",
    "\n",
    "print('Train score: ',nb_model.score(x_train,y_train))\n",
    "print('CV score:    ',nb_scores.mean())"
   ]
  },
  {
   "cell_type": "markdown",
   "metadata": {},
   "source": [
    "#### Fit Decision Tree"
   ]
  },
  {
   "cell_type": "code",
   "execution_count": 904,
   "metadata": {},
   "outputs": [
    {
     "name": "stdout",
     "output_type": "stream",
     "text": [
      "Train score:  0.898989898989899\n",
      "CV score:     0.7924469413233457\n"
     ]
    }
   ],
   "source": [
    "from sklearn.tree import DecisionTreeClassifier\n",
    "\n",
    "tree_model=DecisionTreeClassifier()\n",
    "tree_model.fit(x_train,y_train)\n",
    "\n",
    "tree_scores = cross_val_score(tree_model, x_train, y_train, cv=10, scoring = \"accuracy\")\n",
    "tree={'Model':'Decision Tree', 'CV mean':tree_scores.mean(), 'Std':tree_scores.std()}\n",
    "\n",
    "print('Train score: ',tree_model.score(x_train,y_train))\n",
    "print('CV score:    ',tree_scores.mean())"
   ]
  },
  {
   "cell_type": "markdown",
   "metadata": {},
   "source": [
    "#### Fit Random Forest"
   ]
  },
  {
   "cell_type": "code",
   "execution_count": 905,
   "metadata": {
    "scrolled": true
   },
   "outputs": [
    {
     "name": "stdout",
     "output_type": "stream",
     "text": [
      "Train score:  0.898989898989899\n",
      "CV score:     0.8104244694132333\n"
     ]
    }
   ],
   "source": [
    "from sklearn.ensemble import RandomForestClassifier\n",
    "\n",
    "forest_model=RandomForestClassifier()\n",
    "forest_model.fit(x_train,y_train)\n",
    "\n",
    "forest_scores = cross_val_score(forest_model, x_train, y_train, cv=10, scoring = \"accuracy\")\n",
    "forest={'Model':'Random Forest','CV mean':forest_scores.mean(), 'Std':forest_scores.std()}\n",
    "\n",
    "print('Train score: ',forest_model.score(x_train,y_train))\n",
    "print('CV score:    ',forest_scores.mean())"
   ]
  },
  {
   "cell_type": "markdown",
   "metadata": {},
   "source": [
    "#### Compute Cross-Validation performance"
   ]
  },
  {
   "cell_type": "code",
   "execution_count": 919,
   "metadata": {
    "scrolled": true
   },
   "outputs": [
    {
     "data": {
      "text/html": [
       "<div>\n",
       "<style scoped>\n",
       "    .dataframe tbody tr th:only-of-type {\n",
       "        vertical-align: middle;\n",
       "    }\n",
       "\n",
       "    .dataframe tbody tr th {\n",
       "        vertical-align: top;\n",
       "    }\n",
       "\n",
       "    .dataframe thead th {\n",
       "        text-align: right;\n",
       "    }\n",
       "</style>\n",
       "<table border=\"1\" class=\"dataframe\">\n",
       "  <thead>\n",
       "    <tr style=\"text-align: right;\">\n",
       "      <th></th>\n",
       "      <th>CV mean</th>\n",
       "      <th>Std</th>\n",
       "    </tr>\n",
       "    <tr>\n",
       "      <th>Model</th>\n",
       "      <th></th>\n",
       "      <th></th>\n",
       "    </tr>\n",
       "  </thead>\n",
       "  <tbody>\n",
       "    <tr>\n",
       "      <th>RSVM</th>\n",
       "      <td>0.827166</td>\n",
       "      <td>0.032607</td>\n",
       "    </tr>\n",
       "    <tr>\n",
       "      <th>K-NN</th>\n",
       "      <td>0.826092</td>\n",
       "      <td>0.048006</td>\n",
       "    </tr>\n",
       "    <tr>\n",
       "      <th>Logistic Regression</th>\n",
       "      <td>0.813708</td>\n",
       "      <td>0.028397</td>\n",
       "    </tr>\n",
       "    <tr>\n",
       "      <th>Random Forest</th>\n",
       "      <td>0.810424</td>\n",
       "      <td>0.053706</td>\n",
       "    </tr>\n",
       "    <tr>\n",
       "      <th>SVM</th>\n",
       "      <td>0.809189</td>\n",
       "      <td>0.024199</td>\n",
       "    </tr>\n",
       "    <tr>\n",
       "      <th>Naive Bayes</th>\n",
       "      <td>0.801336</td>\n",
       "      <td>0.022017</td>\n",
       "    </tr>\n",
       "    <tr>\n",
       "      <th>Decision Tree</th>\n",
       "      <td>0.792447</td>\n",
       "      <td>0.051362</td>\n",
       "    </tr>\n",
       "  </tbody>\n",
       "</table>\n",
       "</div>"
      ],
      "text/plain": [
       "                      CV mean       Std\n",
       "Model                                  \n",
       "RSVM                 0.827166  0.032607\n",
       "K-NN                 0.826092  0.048006\n",
       "Logistic Regression  0.813708  0.028397\n",
       "Random Forest        0.810424  0.053706\n",
       "SVM                  0.809189  0.024199\n",
       "Naive Bayes          0.801336  0.022017\n",
       "Decision Tree        0.792447  0.051362"
      ]
     },
     "execution_count": 919,
     "metadata": {},
     "output_type": "execute_result"
    }
   ],
   "source": [
    "models=[logistic, knn, svm, rsvm, nb, tree, forest]\n",
    "\n",
    "cv_scores=pd.DataFrame()\n",
    "for model in models:\n",
    "    cv_scores=cv_scores.append(model,ignore_index=True)  \n",
    "\n",
    "cv_scores=cv_scores.set_index('Model').sort_values('CV mean', ascending=False)\n",
    "cv_scores"
   ]
  },
  {
   "cell_type": "markdown",
   "metadata": {},
   "source": [
    "#### Hyper-parameter tunning for the most performing models"
   ]
  },
  {
   "cell_type": "code",
   "execution_count": 926,
   "metadata": {},
   "outputs": [
    {
     "name": "stdout",
     "output_type": "stream",
     "text": [
      "Fitting 10 folds for each of 120 candidates, totalling 1200 fits\n"
     ]
    },
    {
     "name": "stderr",
     "output_type": "stream",
     "text": [
      "[Parallel(n_jobs=1)]: Using backend SequentialBackend with 1 concurrent workers.\n"
     ]
    },
    {
     "name": "stdout",
     "output_type": "stream",
     "text": [
      "0.8429088639201\n",
      "SVC(C=1, break_ties=False, cache_size=200, class_weight=None, coef0=0.0,\n",
      "    decision_function_shape='ovr', degree=3, gamma=0.5, kernel='rbf',\n",
      "    max_iter=-1, probability=False, random_state=None, shrinking=True,\n",
      "    tol=0.001, verbose=False)\n"
     ]
    },
    {
     "name": "stderr",
     "output_type": "stream",
     "text": [
      "[Parallel(n_jobs=1)]: Done 1200 out of 1200 | elapsed:   14.9s finished\n"
     ]
    }
   ],
   "source": [
    "from sklearn import svm\n",
    "from sklearn.model_selection import GridSearchCV\n",
    "C=[0.05,0.1,0.2,0.3,0.25,0.4,0.5,0.6,0.7,0.8,0.9,1]\n",
    "gamma=[0.1,0.2,0.3,0.4,0.5,0.6,0.7,0.8,0.9,1.0]\n",
    "\n",
    "hyper={'C':C,'gamma':gamma}\n",
    "hyper_rsvm=GridSearchCV(estimator=svm.SVC(kernel='rbf'),param_grid=hyper,verbose=True,cv=10)\n",
    "hyper_rsvm.fit(x_train,y_train)\n",
    "print(hyper_rsvm.best_score_)\n",
    "print(hyper_rsvm.best_estimator_)"
   ]
  },
  {
   "cell_type": "code",
   "execution_count": 954,
   "metadata": {},
   "outputs": [
    {
     "name": "stdout",
     "output_type": "stream",
     "text": [
      "Fitting 10 folds for each of 342 candidates, totalling 3420 fits\n"
     ]
    },
    {
     "name": "stderr",
     "output_type": "stream",
     "text": [
      "[Parallel(n_jobs=1)]: Using backend SequentialBackend with 1 concurrent workers.\n"
     ]
    },
    {
     "name": "stdout",
     "output_type": "stream",
     "text": [
      "0.8272284644194757\n",
      "KNeighborsClassifier(algorithm='auto', leaf_size=1, metric='minkowski',\n",
      "                     metric_params=None, n_jobs=None, n_neighbors=9, p=1,\n",
      "                     weights='uniform')\n"
     ]
    },
    {
     "name": "stderr",
     "output_type": "stream",
     "text": [
      "[Parallel(n_jobs=1)]: Done 3420 out of 3420 | elapsed:   36.8s finished\n"
     ]
    }
   ],
   "source": [
    "leaf_size = list(range(1,20))\n",
    "n_neighbors = list(range(1,10))\n",
    "p=[1,2]\n",
    "\n",
    "hyper={'leaf_size':leaf_size,'n_neighbors':n_neighbors,'p':p}\n",
    "hyper_knn=GridSearchCV(estimator=KNeighborsClassifier(),param_grid=hyper,verbose=True,cv=10)\n",
    "hyper_knn.fit(x_train,y_train)\n",
    "print(hyper_knn.best_score_)\n",
    "print(hyper_knn.best_estimator_)"
   ]
  },
  {
   "cell_type": "code",
   "execution_count": 955,
   "metadata": {},
   "outputs": [
    {
     "name": "stdout",
     "output_type": "stream",
     "text": [
      "Fitting 10 folds for each of 162 candidates, totalling 1620 fits\n"
     ]
    },
    {
     "name": "stderr",
     "output_type": "stream",
     "text": [
      "[Parallel(n_jobs=4)]: Using backend LokyBackend with 4 concurrent workers.\n",
      "[Parallel(n_jobs=4)]: Done  42 tasks      | elapsed:    5.3s\n",
      "[Parallel(n_jobs=4)]: Done 192 tasks      | elapsed:   33.3s\n",
      "[Parallel(n_jobs=4)]: Done 442 tasks      | elapsed:  1.3min\n",
      "[Parallel(n_jobs=4)]: Done 792 tasks      | elapsed:  2.2min\n",
      "[Parallel(n_jobs=4)]: Done 1242 tasks      | elapsed:  3.5min\n",
      "[Parallel(n_jobs=4)]: Done 1620 out of 1620 | elapsed:  4.6min finished\n"
     ]
    },
    {
     "name": "stdout",
     "output_type": "stream",
     "text": [
      "0.8361922596754058\n",
      "RandomForestClassifier(bootstrap=True, ccp_alpha=0.0, class_weight=None,\n",
      "                       criterion='gini', max_depth=80, max_features='auto',\n",
      "                       max_leaf_nodes=None, max_samples=None,\n",
      "                       min_impurity_decrease=0.0, min_impurity_split=None,\n",
      "                       min_samples_leaf=3, min_samples_split=2,\n",
      "                       min_weight_fraction_leaf=0.0, n_estimators=200,\n",
      "                       n_jobs=None, oob_score=False, random_state=None,\n",
      "                       verbose=0, warm_start=False)\n"
     ]
    }
   ],
   "source": [
    "n_estimators=range(100,1000,100)\n",
    "max_depth=[80,100]\n",
    "min_samples_leaf=range(3,10)\n",
    "min_samples_split=[2, 3, 10]\n",
    "min_samples_leaf=[1, 3, 10]\n",
    "\n",
    "\n",
    "hyper={'n_estimators':n_estimators,'max_depth':max_depth,'min_samples_leaf':min_samples_leaf,'min_samples_split':min_samples_split,'min_samples_leaf':min_samples_leaf}\n",
    "hyper_forest=GridSearchCV(estimator=RandomForestClassifier(), param_grid=hyper, verbose=True, cv=10, n_jobs= 4)\n",
    "hyper_forest.fit(x_train,y_train)\n",
    "print(hyper_forest.best_score_)\n",
    "print(hyper_forest.best_estimator_)"
   ]
  },
  {
   "cell_type": "markdown",
   "metadata": {},
   "source": [
    "#### Compute the Confusion matrix for the performing models"
   ]
  },
  {
   "cell_type": "code",
   "execution_count": 957,
   "metadata": {
    "scrolled": true
   },
   "outputs": [
    {
     "data": {
      "image/png": "[encoded data removed]",
      "text/plain": [
       "<Figure size 1440x360 with 6 Axes>"
      ]
     },
     "metadata": {
      "needs_background": "light"
     },
     "output_type": "display_data"
    }
   ],
   "source": [
    "from sklearn.metrics import confusion_matrix\n",
    "\n",
    "f,ax=plt.subplots(1,3, figsize=(20,5))\n",
    "\n",
    "y_pred_rsvm=hyper_rsvm.best_estimator_.predict(x_train)\n",
    "y_pred_knn=hyper_knn.best_estimator_.predict(x_train)\n",
    "y_pred_forest=hyper_forest.best_estimator_.predict(x_train)\n",
    "\n",
    "sns.heatmap(confusion_matrix(y_train,y_pred_rsvm), annot=True,fmt='2.0f',ax=ax[0])\n",
    "sns.heatmap(confusion_matrix(y_train,y_pred_knn), annot=True,fmt='2.0f',ax=ax[1])\n",
    "sns.heatmap(confusion_matrix(y_train,y_pred_forest), annot=True,fmt='2.0f',ax=ax[2])\n",
    "ax[0].set_title('Radial SVM')\n",
    "ax[1].set_title('KNN')\n",
    "ax[2].set_title('Random Forest')\n",
    "plt.show()"
   ]
  },
  {
   "cell_type": "markdown",
   "metadata": {},
   "source": [
    "#### Get feature importance (only possible for Random forest)"
   ]
  },
  {
   "cell_type": "code",
   "execution_count": 964,
   "metadata": {},
   "outputs": [
    {
     "data": {
      "image/png": "[encoded data removed]",
      "text/plain": [
       "<Figure size 432x288 with 1 Axes>"
      ]
     },
     "metadata": {
      "needs_background": "light"
     },
     "output_type": "display_data"
    }
   ],
   "source": [
    "pd.Series(hyper_forest.best_estimator_.feature_importances_,x_train.columns).sort_values(ascending=True).plot.barh()\n",
    "fig=plt.gcf()\n",
    "fig.suptitle('Random Forest - Feature importance')\n",
    "plt.show()"
   ]
  },
  {
   "cell_type": "markdown",
   "metadata": {},
   "source": [
    "#### Use the most performing model (R-SVM) and predict the test set for submission"
   ]
  },
  {
   "cell_type": "code",
   "execution_count": 970,
   "metadata": {},
   "outputs": [],
   "source": [
    "y_pred_rsvm=hyper_rsvm.best_estimator_.predict(x_test)\n",
    "submission = pd.DataFrame({\n",
    "        \"PassengerId\": test_data[\"PassengerId\"],\n",
    "        \"Survived\": y_pred_rsvm\n",
    "    })\n",
    "submission.to_csv('C:/Users/Victor/Documents/Python Courses/Kaggle/Titanic/submission.csv', index=False)"
   ]
  },
  {
   "cell_type": "markdown",
   "metadata": {},
   "source": [
    "#### Performance on test set: 74.88%"
   ]
  }
 ],
 "metadata": {
  "kernelspec": {
   "display_name": "Python 3",
   "language": "python",
   "name": "python3"
  },
  "language_info": {
   "codemirror_mode": {
    "name": "ipython",
    "version": 3
   },
   "file_extension": ".py",
   "mimetype": "text/x-python",
   "name": "python",
   "nbconvert_exporter": "python",
   "pygments_lexer": "ipython3",
   "version": "3.7.4"
  }
 },
 "nbformat": 4,
 "nbformat_minor": 4
}
